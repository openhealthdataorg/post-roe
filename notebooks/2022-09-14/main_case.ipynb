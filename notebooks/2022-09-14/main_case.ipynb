{
 "cells": [
  {
   "cell_type": "code",
   "execution_count": 2,
   "metadata": {},
   "outputs": [],
   "source": [
    "import plotly.express as px\n",
    "import pandas as pd\n",
    "from geopy.distance import geodesic\n",
    "import requests\n",
    "from concurrent.futures import ThreadPoolExecutor\n",
    "\n",
    "from post_roe.query import BucketQuery as bq, BUCKET_BASE\n",
    "from post_roe.distance import Distance\n"
   ]
  },
  {
   "cell_type": "code",
   "execution_count": 25,
   "metadata": {},
   "outputs": [
    {
     "data": {
      "text/html": [
       "<div>\n",
       "<style scoped>\n",
       "    .dataframe tbody tr th:only-of-type {\n",
       "        vertical-align: middle;\n",
       "    }\n",
       "\n",
       "    .dataframe tbody tr th {\n",
       "        vertical-align: top;\n",
       "    }\n",
       "\n",
       "    .dataframe thead th {\n",
       "        text-align: right;\n",
       "    }\n",
       "</style>\n",
       "<table border=\"1\" class=\"dataframe\">\n",
       "  <thead>\n",
       "    <tr style=\"text-align: right;\">\n",
       "      <th></th>\n",
       "      <th>state</th>\n",
       "      <th>zip3</th>\n",
       "      <th>lat</th>\n",
       "      <th>lon</th>\n",
       "      <th>population</th>\n",
       "      <th>adi_median</th>\n",
       "      <th>case</th>\n",
       "      <th>drive_time</th>\n",
       "      <th>state_status</th>\n",
       "      <th>adi_decile</th>\n",
       "      <th>_drive_hrs</th>\n",
       "    </tr>\n",
       "  </thead>\n",
       "  <tbody>\n",
       "    <tr>\n",
       "      <th>0</th>\n",
       "      <td>AL</td>\n",
       "      <td>301**</td>\n",
       "      <td>34.315791</td>\n",
       "      <td>-85.295125</td>\n",
       "      <td>39975</td>\n",
       "      <td>79.0</td>\n",
       "      <td>main_515</td>\n",
       "      <td>510.0</td>\n",
       "      <td>at_risk</td>\n",
       "      <td>7</td>\n",
       "      <td>8.0</td>\n",
       "    </tr>\n",
       "    <tr>\n",
       "      <th>1</th>\n",
       "      <td>AL</td>\n",
       "      <td>319**</td>\n",
       "      <td>32.372789</td>\n",
       "      <td>-84.843361</td>\n",
       "      <td>16044</td>\n",
       "      <td>84.0</td>\n",
       "      <td>main_515</td>\n",
       "      <td>637.4</td>\n",
       "      <td>at_risk</td>\n",
       "      <td>8</td>\n",
       "      <td>10.0</td>\n",
       "    </tr>\n",
       "    <tr>\n",
       "      <th>2</th>\n",
       "      <td>AL</td>\n",
       "      <td>350**</td>\n",
       "      <td>33.568065</td>\n",
       "      <td>-86.712692</td>\n",
       "      <td>442190</td>\n",
       "      <td>73.0</td>\n",
       "      <td>main_515</td>\n",
       "      <td>490.4</td>\n",
       "      <td>at_risk</td>\n",
       "      <td>7</td>\n",
       "      <td>8.0</td>\n",
       "    </tr>\n",
       "    <tr>\n",
       "      <th>3</th>\n",
       "      <td>AL</td>\n",
       "      <td>351**</td>\n",
       "      <td>33.506417</td>\n",
       "      <td>-86.624839</td>\n",
       "      <td>324591</td>\n",
       "      <td>61.0</td>\n",
       "      <td>main_515</td>\n",
       "      <td>501.2</td>\n",
       "      <td>at_risk</td>\n",
       "      <td>6</td>\n",
       "      <td>8.0</td>\n",
       "    </tr>\n",
       "    <tr>\n",
       "      <th>4</th>\n",
       "      <td>AL</td>\n",
       "      <td>352**</td>\n",
       "      <td>33.506077</td>\n",
       "      <td>-86.798758</td>\n",
       "      <td>491463</td>\n",
       "      <td>72.0</td>\n",
       "      <td>main_515</td>\n",
       "      <td>487.0</td>\n",
       "      <td>at_risk</td>\n",
       "      <td>7</td>\n",
       "      <td>8.0</td>\n",
       "    </tr>\n",
       "    <tr>\n",
       "      <th>...</th>\n",
       "      <td>...</td>\n",
       "      <td>...</td>\n",
       "      <td>...</td>\n",
       "      <td>...</td>\n",
       "      <td>...</td>\n",
       "      <td>...</td>\n",
       "      <td>...</td>\n",
       "      <td>...</td>\n",
       "      <td>...</td>\n",
       "      <td>...</td>\n",
       "      <td>...</td>\n",
       "    </tr>\n",
       "    <tr>\n",
       "      <th>877</th>\n",
       "      <td>WY</td>\n",
       "      <td>824**</td>\n",
       "      <td>44.438020</td>\n",
       "      <td>-108.408179</td>\n",
       "      <td>52930</td>\n",
       "      <td>48.0</td>\n",
       "      <td>main_515</td>\n",
       "      <td>431.0</td>\n",
       "      <td>at_risk</td>\n",
       "      <td>4</td>\n",
       "      <td>7.0</td>\n",
       "    </tr>\n",
       "    <tr>\n",
       "      <th>878</th>\n",
       "      <td>WY</td>\n",
       "      <td>825**</td>\n",
       "      <td>43.103802</td>\n",
       "      <td>-108.847958</td>\n",
       "      <td>38910</td>\n",
       "      <td>56.0</td>\n",
       "      <td>main_515</td>\n",
       "      <td>370.0</td>\n",
       "      <td>at_risk</td>\n",
       "      <td>5</td>\n",
       "      <td>6.0</td>\n",
       "    </tr>\n",
       "    <tr>\n",
       "      <th>879</th>\n",
       "      <td>WY</td>\n",
       "      <td>826**</td>\n",
       "      <td>43.106535</td>\n",
       "      <td>-106.629017</td>\n",
       "      <td>91238</td>\n",
       "      <td>52.5</td>\n",
       "      <td>main_515</td>\n",
       "      <td>257.6</td>\n",
       "      <td>at_risk</td>\n",
       "      <td>5</td>\n",
       "      <td>4.0</td>\n",
       "    </tr>\n",
       "    <tr>\n",
       "      <th>880</th>\n",
       "      <td>WY</td>\n",
       "      <td>828**</td>\n",
       "      <td>44.714826</td>\n",
       "      <td>-106.872537</td>\n",
       "      <td>36958</td>\n",
       "      <td>31.0</td>\n",
       "      <td>main_515</td>\n",
       "      <td>349.6</td>\n",
       "      <td>at_risk</td>\n",
       "      <td>3</td>\n",
       "      <td>5.0</td>\n",
       "    </tr>\n",
       "    <tr>\n",
       "      <th>881</th>\n",
       "      <td>WY</td>\n",
       "      <td>830**</td>\n",
       "      <td>43.639891</td>\n",
       "      <td>-110.731186</td>\n",
       "      <td>20421</td>\n",
       "      <td>3.0</td>\n",
       "      <td>main_515</td>\n",
       "      <td>452.6</td>\n",
       "      <td>at_risk</td>\n",
       "      <td>0</td>\n",
       "      <td>7.0</td>\n",
       "    </tr>\n",
       "  </tbody>\n",
       "</table>\n",
       "<p>882 rows × 11 columns</p>\n",
       "</div>"
      ],
      "text/plain": [
       "    state   zip3        lat         lon  population  adi_median      case  \\\n",
       "0      AL  301**  34.315791  -85.295125       39975        79.0  main_515   \n",
       "1      AL  319**  32.372789  -84.843361       16044        84.0  main_515   \n",
       "2      AL  350**  33.568065  -86.712692      442190        73.0  main_515   \n",
       "3      AL  351**  33.506417  -86.624839      324591        61.0  main_515   \n",
       "4      AL  352**  33.506077  -86.798758      491463        72.0  main_515   \n",
       "..    ...    ...        ...         ...         ...         ...       ...   \n",
       "877    WY  824**  44.438020 -108.408179       52930        48.0  main_515   \n",
       "878    WY  825**  43.103802 -108.847958       38910        56.0  main_515   \n",
       "879    WY  826**  43.106535 -106.629017       91238        52.5  main_515   \n",
       "880    WY  828**  44.714826 -106.872537       36958        31.0  main_515   \n",
       "881    WY  830**  43.639891 -110.731186       20421         3.0  main_515   \n",
       "\n",
       "     drive_time state_status  adi_decile  _drive_hrs  \n",
       "0         510.0      at_risk           7         8.0  \n",
       "1         637.4      at_risk           8        10.0  \n",
       "2         490.4      at_risk           7         8.0  \n",
       "3         501.2      at_risk           6         8.0  \n",
       "4         487.0      at_risk           7         8.0  \n",
       "..          ...          ...         ...         ...  \n",
       "877       431.0      at_risk           4         7.0  \n",
       "878       370.0      at_risk           5         6.0  \n",
       "879       257.6      at_risk           5         4.0  \n",
       "880       349.6      at_risk           3         5.0  \n",
       "881       452.6      at_risk           0         7.0  \n",
       "\n",
       "[882 rows x 11 columns]"
      ]
     },
     "execution_count": 25,
     "metadata": {},
     "output_type": "execute_result"
    }
   ],
   "source": [
    "def process_async(request):\n",
    "    \"\"\"  \n",
    "        Takes about 5 min at k=5, clinics = 1k\n",
    "    \"\"\"\n",
    "    MAX_WORKERS = 50\n",
    "\n",
    "    # request_json = request.get_json()\n",
    "    # case = request_json.get(\"case\")\n",
    "    case = \"main_515\"\n",
    "\n",
    "    def _invoke_get_drive_time(origin: dict) -> dict:\n",
    "        API_BASE = \"https://us-central1-ohdo-post-roe-359822.cloudfunctions.net\"\n",
    "        endpoint = f\"{API_BASE}/post-roe-sls-dev-get-drive-time\"\n",
    "        params = {\n",
    "            \"case\": case,\n",
    "            \"k\": 5,\n",
    "            \"origin\": {\n",
    "                \"lat_lon\": list(origin['lat_lon']),\n",
    "                \"zip3\": origin['zip3'],\n",
    "            } \n",
    "        }\n",
    "        resp = requests.post(endpoint, json=params)\n",
    "        if resp.status_code != 200:\n",
    "            print(resp.status_code, resp.text)\n",
    "        else:\n",
    "            return resp.json()\n",
    "    \n",
    "    # loads 8e2 zip3 origins\n",
    "    origins = bq.census_zip3_query()\n",
    "    zip3_origins = origins[['zip3','lat_lon']].to_dict(orient=\"records\")\n",
    "    \n",
    "    with ThreadPoolExecutor(max_workers=MAX_WORKERS) as exec:\n",
    "        futures = exec.map(_invoke_get_drive_time, zip3_origins)\n",
    "    \n",
    "    drive_time = pd.DataFrame(list(futures))\n",
    "    \n",
    "\n",
    "\n",
    "    \n",
    "    df.to_feather(f\"drive_time_{case}.feather\") # this is brittle. errr\n",
    "    resp = {\n",
    "        \"case\": case,\n",
    "        \"count\": len(drive_times),\n",
    "        \"drive_times\": drive_times\n",
    "    }\n",
    "    return resp\n",
    "\n",
    "# resp = process_async(\"\")\n",
    "# resp\n",
    "case = \"main_515\"\n",
    "drive_time = pd.read_feather(\"drive_time_main_515.feather\")\n",
    "origins = bq.census_zip3_query()\n",
    "df = origins.merge(drive_time, how=\"left\").drop_duplicates(subset=['zip3']).drop(columns=[\"lat_lon\"])\n",
    "df = df.merge(bq.states_query(case=case)[['state','state_status']])\n",
    "df['adi_decile'] = df['adi_median'].apply(lambda x: int(x/10))\n",
    "df['_drive_hrs'] = df['drive_time'].dropna().apply(lambda x: int(x/60))\n",
    "df"
   ]
  },
  {
   "cell_type": "code",
   "execution_count": 26,
   "metadata": {},
   "outputs": [
    {
     "data": {
      "text/html": [
       "<div>\n",
       "<style scoped>\n",
       "    .dataframe tbody tr th:only-of-type {\n",
       "        vertical-align: middle;\n",
       "    }\n",
       "\n",
       "    .dataframe tbody tr th {\n",
       "        vertical-align: top;\n",
       "    }\n",
       "\n",
       "    .dataframe thead th {\n",
       "        text-align: right;\n",
       "    }\n",
       "</style>\n",
       "<table border=\"1\" class=\"dataframe\">\n",
       "  <thead>\n",
       "    <tr style=\"text-align: right;\">\n",
       "      <th></th>\n",
       "      <th>state</th>\n",
       "      <th>zip3</th>\n",
       "      <th>lat</th>\n",
       "      <th>lon</th>\n",
       "      <th>population</th>\n",
       "      <th>adi_median</th>\n",
       "      <th>case</th>\n",
       "      <th>drive_time</th>\n",
       "      <th>state_status</th>\n",
       "      <th>adi_decile</th>\n",
       "      <th>_drive_hrs</th>\n",
       "      <th>_population</th>\n",
       "      <th>_drive_time</th>\n",
       "      <th>_loss</th>\n",
       "    </tr>\n",
       "  </thead>\n",
       "  <tbody>\n",
       "    <tr>\n",
       "      <th>0</th>\n",
       "      <td>AL</td>\n",
       "      <td>301**</td>\n",
       "      <td>34.315791</td>\n",
       "      <td>-85.295125</td>\n",
       "      <td>39975</td>\n",
       "      <td>79.0</td>\n",
       "      <td>main_515</td>\n",
       "      <td>510.0</td>\n",
       "      <td>at_risk</td>\n",
       "      <td>7</td>\n",
       "      <td>8.0</td>\n",
       "      <td>0.013753</td>\n",
       "      <td>0.514549</td>\n",
       "      <td>0.007076</td>\n",
       "    </tr>\n",
       "    <tr>\n",
       "      <th>1</th>\n",
       "      <td>AL</td>\n",
       "      <td>319**</td>\n",
       "      <td>32.372789</td>\n",
       "      <td>-84.843361</td>\n",
       "      <td>16044</td>\n",
       "      <td>84.0</td>\n",
       "      <td>main_515</td>\n",
       "      <td>637.4</td>\n",
       "      <td>at_risk</td>\n",
       "      <td>8</td>\n",
       "      <td>10.0</td>\n",
       "      <td>0.005520</td>\n",
       "      <td>0.645082</td>\n",
       "      <td>0.003561</td>\n",
       "    </tr>\n",
       "    <tr>\n",
       "      <th>2</th>\n",
       "      <td>AL</td>\n",
       "      <td>350**</td>\n",
       "      <td>33.568065</td>\n",
       "      <td>-86.712692</td>\n",
       "      <td>442190</td>\n",
       "      <td>73.0</td>\n",
       "      <td>main_515</td>\n",
       "      <td>490.4</td>\n",
       "      <td>at_risk</td>\n",
       "      <td>7</td>\n",
       "      <td>8.0</td>\n",
       "      <td>0.152128</td>\n",
       "      <td>0.494467</td>\n",
       "      <td>0.075222</td>\n",
       "    </tr>\n",
       "    <tr>\n",
       "      <th>3</th>\n",
       "      <td>AL</td>\n",
       "      <td>351**</td>\n",
       "      <td>33.506417</td>\n",
       "      <td>-86.624839</td>\n",
       "      <td>324591</td>\n",
       "      <td>61.0</td>\n",
       "      <td>main_515</td>\n",
       "      <td>501.2</td>\n",
       "      <td>at_risk</td>\n",
       "      <td>6</td>\n",
       "      <td>8.0</td>\n",
       "      <td>0.111670</td>\n",
       "      <td>0.505533</td>\n",
       "      <td>0.056453</td>\n",
       "    </tr>\n",
       "    <tr>\n",
       "      <th>4</th>\n",
       "      <td>AL</td>\n",
       "      <td>352**</td>\n",
       "      <td>33.506077</td>\n",
       "      <td>-86.798758</td>\n",
       "      <td>491463</td>\n",
       "      <td>72.0</td>\n",
       "      <td>main_515</td>\n",
       "      <td>487.0</td>\n",
       "      <td>at_risk</td>\n",
       "      <td>7</td>\n",
       "      <td>8.0</td>\n",
       "      <td>0.169079</td>\n",
       "      <td>0.490984</td>\n",
       "      <td>0.083015</td>\n",
       "    </tr>\n",
       "    <tr>\n",
       "      <th>...</th>\n",
       "      <td>...</td>\n",
       "      <td>...</td>\n",
       "      <td>...</td>\n",
       "      <td>...</td>\n",
       "      <td>...</td>\n",
       "      <td>...</td>\n",
       "      <td>...</td>\n",
       "      <td>...</td>\n",
       "      <td>...</td>\n",
       "      <td>...</td>\n",
       "      <td>...</td>\n",
       "      <td>...</td>\n",
       "      <td>...</td>\n",
       "      <td>...</td>\n",
       "    </tr>\n",
       "    <tr>\n",
       "      <th>877</th>\n",
       "      <td>WY</td>\n",
       "      <td>824**</td>\n",
       "      <td>44.438020</td>\n",
       "      <td>-108.408179</td>\n",
       "      <td>52930</td>\n",
       "      <td>48.0</td>\n",
       "      <td>main_515</td>\n",
       "      <td>431.0</td>\n",
       "      <td>at_risk</td>\n",
       "      <td>4</td>\n",
       "      <td>7.0</td>\n",
       "      <td>0.018210</td>\n",
       "      <td>0.433607</td>\n",
       "      <td>0.007896</td>\n",
       "    </tr>\n",
       "    <tr>\n",
       "      <th>878</th>\n",
       "      <td>WY</td>\n",
       "      <td>825**</td>\n",
       "      <td>43.103802</td>\n",
       "      <td>-108.847958</td>\n",
       "      <td>38910</td>\n",
       "      <td>56.0</td>\n",
       "      <td>main_515</td>\n",
       "      <td>370.0</td>\n",
       "      <td>at_risk</td>\n",
       "      <td>5</td>\n",
       "      <td>6.0</td>\n",
       "      <td>0.013386</td>\n",
       "      <td>0.371107</td>\n",
       "      <td>0.004968</td>\n",
       "    </tr>\n",
       "    <tr>\n",
       "      <th>879</th>\n",
       "      <td>WY</td>\n",
       "      <td>826**</td>\n",
       "      <td>43.106535</td>\n",
       "      <td>-106.629017</td>\n",
       "      <td>91238</td>\n",
       "      <td>52.5</td>\n",
       "      <td>main_515</td>\n",
       "      <td>257.6</td>\n",
       "      <td>at_risk</td>\n",
       "      <td>5</td>\n",
       "      <td>4.0</td>\n",
       "      <td>0.031389</td>\n",
       "      <td>0.255943</td>\n",
       "      <td>0.008034</td>\n",
       "    </tr>\n",
       "    <tr>\n",
       "      <th>880</th>\n",
       "      <td>WY</td>\n",
       "      <td>828**</td>\n",
       "      <td>44.714826</td>\n",
       "      <td>-106.872537</td>\n",
       "      <td>36958</td>\n",
       "      <td>31.0</td>\n",
       "      <td>main_515</td>\n",
       "      <td>349.6</td>\n",
       "      <td>at_risk</td>\n",
       "      <td>3</td>\n",
       "      <td>5.0</td>\n",
       "      <td>0.012715</td>\n",
       "      <td>0.350205</td>\n",
       "      <td>0.004453</td>\n",
       "    </tr>\n",
       "    <tr>\n",
       "      <th>881</th>\n",
       "      <td>WY</td>\n",
       "      <td>830**</td>\n",
       "      <td>43.639891</td>\n",
       "      <td>-110.731186</td>\n",
       "      <td>20421</td>\n",
       "      <td>3.0</td>\n",
       "      <td>main_515</td>\n",
       "      <td>452.6</td>\n",
       "      <td>at_risk</td>\n",
       "      <td>0</td>\n",
       "      <td>7.0</td>\n",
       "      <td>0.007025</td>\n",
       "      <td>0.455738</td>\n",
       "      <td>0.003202</td>\n",
       "    </tr>\n",
       "  </tbody>\n",
       "</table>\n",
       "<p>882 rows × 14 columns</p>\n",
       "</div>"
      ],
      "text/plain": [
       "    state   zip3        lat         lon  population  adi_median      case  \\\n",
       "0      AL  301**  34.315791  -85.295125       39975        79.0  main_515   \n",
       "1      AL  319**  32.372789  -84.843361       16044        84.0  main_515   \n",
       "2      AL  350**  33.568065  -86.712692      442190        73.0  main_515   \n",
       "3      AL  351**  33.506417  -86.624839      324591        61.0  main_515   \n",
       "4      AL  352**  33.506077  -86.798758      491463        72.0  main_515   \n",
       "..    ...    ...        ...         ...         ...         ...       ...   \n",
       "877    WY  824**  44.438020 -108.408179       52930        48.0  main_515   \n",
       "878    WY  825**  43.103802 -108.847958       38910        56.0  main_515   \n",
       "879    WY  826**  43.106535 -106.629017       91238        52.5  main_515   \n",
       "880    WY  828**  44.714826 -106.872537       36958        31.0  main_515   \n",
       "881    WY  830**  43.639891 -110.731186       20421         3.0  main_515   \n",
       "\n",
       "     drive_time state_status  adi_decile  _drive_hrs  _population  \\\n",
       "0         510.0      at_risk           7         8.0     0.013753   \n",
       "1         637.4      at_risk           8        10.0     0.005520   \n",
       "2         490.4      at_risk           7         8.0     0.152128   \n",
       "3         501.2      at_risk           6         8.0     0.111670   \n",
       "4         487.0      at_risk           7         8.0     0.169079   \n",
       "..          ...          ...         ...         ...          ...   \n",
       "877       431.0      at_risk           4         7.0     0.018210   \n",
       "878       370.0      at_risk           5         6.0     0.013386   \n",
       "879       257.6      at_risk           5         4.0     0.031389   \n",
       "880       349.6      at_risk           3         5.0     0.012715   \n",
       "881       452.6      at_risk           0         7.0     0.007025   \n",
       "\n",
       "     _drive_time     _loss  \n",
       "0       0.514549  0.007076  \n",
       "1       0.645082  0.003561  \n",
       "2       0.494467  0.075222  \n",
       "3       0.505533  0.056453  \n",
       "4       0.490984  0.083015  \n",
       "..           ...       ...  \n",
       "877     0.433607  0.007896  \n",
       "878     0.371107  0.004968  \n",
       "879     0.255943  0.008034  \n",
       "880     0.350205  0.004453  \n",
       "881     0.455738  0.003202  \n",
       "\n",
       "[882 rows x 14 columns]"
      ]
     },
     "execution_count": 26,
     "metadata": {},
     "output_type": "execute_result"
    }
   ],
   "source": [
    "from sklearn.preprocessing import MinMaxScaler\n",
    "\n",
    "df[['_population','_drive_time']] =  MinMaxScaler().fit_transform(df[['population','drive_time']])\n",
    "df['_loss'] = df['_drive_time'] * df['_population']\n",
    "df\n"
   ]
  },
  {
   "cell_type": "code",
   "execution_count": 31,
   "metadata": {},
   "outputs": [
    {
     "data": {
      "application/vnd.plotly.v1+json": {
       "config": {
        "plotlyServerURL": "https://plot.ly"
       },
       "data": [
        {
         "alignmentgroup": "True",
         "hovertemplate": "adi_decile=%{x}<br>total_loss=%{y}<extra></extra>",
         "legendgroup": "",
         "marker": {
          "color": "#636efa",
          "pattern": {
           "shape": ""
          }
         },
         "name": "",
         "offsetgroup": "",
         "orientation": "v",
         "showlegend": false,
         "textposition": "auto",
         "type": "bar",
         "x": [
          0,
          1,
          2,
          3,
          4,
          5,
          6,
          7,
          8,
          9
         ],
         "xaxis": "x",
         "y": [
          0.07073854145340867,
          0.1804379180914417,
          0.9066741814558452,
          1.9840785613593694,
          3.3778707695251278,
          5.0464860207085165,
          4.480406227881091,
          5.10423390638756,
          3.2978552943256596,
          0.3989633122909367
         ],
         "yaxis": "y"
        }
       ],
       "layout": {
        "barmode": "relative",
        "legend": {
         "tracegroupgap": 0
        },
        "margin": {
         "t": 60
        },
        "template": {
         "data": {
          "bar": [
           {
            "error_x": {
             "color": "#2a3f5f"
            },
            "error_y": {
             "color": "#2a3f5f"
            },
            "marker": {
             "line": {
              "color": "#E5ECF6",
              "width": 0.5
             },
             "pattern": {
              "fillmode": "overlay",
              "size": 10,
              "solidity": 0.2
             }
            },
            "type": "bar"
           }
          ],
          "barpolar": [
           {
            "marker": {
             "line": {
              "color": "#E5ECF6",
              "width": 0.5
             },
             "pattern": {
              "fillmode": "overlay",
              "size": 10,
              "solidity": 0.2
             }
            },
            "type": "barpolar"
           }
          ],
          "carpet": [
           {
            "aaxis": {
             "endlinecolor": "#2a3f5f",
             "gridcolor": "white",
             "linecolor": "white",
             "minorgridcolor": "white",
             "startlinecolor": "#2a3f5f"
            },
            "baxis": {
             "endlinecolor": "#2a3f5f",
             "gridcolor": "white",
             "linecolor": "white",
             "minorgridcolor": "white",
             "startlinecolor": "#2a3f5f"
            },
            "type": "carpet"
           }
          ],
          "choropleth": [
           {
            "colorbar": {
             "outlinewidth": 0,
             "ticks": ""
            },
            "type": "choropleth"
           }
          ],
          "contour": [
           {
            "colorbar": {
             "outlinewidth": 0,
             "ticks": ""
            },
            "colorscale": [
             [
              0,
              "#0d0887"
             ],
             [
              0.1111111111111111,
              "#46039f"
             ],
             [
              0.2222222222222222,
              "#7201a8"
             ],
             [
              0.3333333333333333,
              "#9c179e"
             ],
             [
              0.4444444444444444,
              "#bd3786"
             ],
             [
              0.5555555555555556,
              "#d8576b"
             ],
             [
              0.6666666666666666,
              "#ed7953"
             ],
             [
              0.7777777777777778,
              "#fb9f3a"
             ],
             [
              0.8888888888888888,
              "#fdca26"
             ],
             [
              1,
              "#f0f921"
             ]
            ],
            "type": "contour"
           }
          ],
          "contourcarpet": [
           {
            "colorbar": {
             "outlinewidth": 0,
             "ticks": ""
            },
            "type": "contourcarpet"
           }
          ],
          "heatmap": [
           {
            "colorbar": {
             "outlinewidth": 0,
             "ticks": ""
            },
            "colorscale": [
             [
              0,
              "#0d0887"
             ],
             [
              0.1111111111111111,
              "#46039f"
             ],
             [
              0.2222222222222222,
              "#7201a8"
             ],
             [
              0.3333333333333333,
              "#9c179e"
             ],
             [
              0.4444444444444444,
              "#bd3786"
             ],
             [
              0.5555555555555556,
              "#d8576b"
             ],
             [
              0.6666666666666666,
              "#ed7953"
             ],
             [
              0.7777777777777778,
              "#fb9f3a"
             ],
             [
              0.8888888888888888,
              "#fdca26"
             ],
             [
              1,
              "#f0f921"
             ]
            ],
            "type": "heatmap"
           }
          ],
          "heatmapgl": [
           {
            "colorbar": {
             "outlinewidth": 0,
             "ticks": ""
            },
            "colorscale": [
             [
              0,
              "#0d0887"
             ],
             [
              0.1111111111111111,
              "#46039f"
             ],
             [
              0.2222222222222222,
              "#7201a8"
             ],
             [
              0.3333333333333333,
              "#9c179e"
             ],
             [
              0.4444444444444444,
              "#bd3786"
             ],
             [
              0.5555555555555556,
              "#d8576b"
             ],
             [
              0.6666666666666666,
              "#ed7953"
             ],
             [
              0.7777777777777778,
              "#fb9f3a"
             ],
             [
              0.8888888888888888,
              "#fdca26"
             ],
             [
              1,
              "#f0f921"
             ]
            ],
            "type": "heatmapgl"
           }
          ],
          "histogram": [
           {
            "marker": {
             "pattern": {
              "fillmode": "overlay",
              "size": 10,
              "solidity": 0.2
             }
            },
            "type": "histogram"
           }
          ],
          "histogram2d": [
           {
            "colorbar": {
             "outlinewidth": 0,
             "ticks": ""
            },
            "colorscale": [
             [
              0,
              "#0d0887"
             ],
             [
              0.1111111111111111,
              "#46039f"
             ],
             [
              0.2222222222222222,
              "#7201a8"
             ],
             [
              0.3333333333333333,
              "#9c179e"
             ],
             [
              0.4444444444444444,
              "#bd3786"
             ],
             [
              0.5555555555555556,
              "#d8576b"
             ],
             [
              0.6666666666666666,
              "#ed7953"
             ],
             [
              0.7777777777777778,
              "#fb9f3a"
             ],
             [
              0.8888888888888888,
              "#fdca26"
             ],
             [
              1,
              "#f0f921"
             ]
            ],
            "type": "histogram2d"
           }
          ],
          "histogram2dcontour": [
           {
            "colorbar": {
             "outlinewidth": 0,
             "ticks": ""
            },
            "colorscale": [
             [
              0,
              "#0d0887"
             ],
             [
              0.1111111111111111,
              "#46039f"
             ],
             [
              0.2222222222222222,
              "#7201a8"
             ],
             [
              0.3333333333333333,
              "#9c179e"
             ],
             [
              0.4444444444444444,
              "#bd3786"
             ],
             [
              0.5555555555555556,
              "#d8576b"
             ],
             [
              0.6666666666666666,
              "#ed7953"
             ],
             [
              0.7777777777777778,
              "#fb9f3a"
             ],
             [
              0.8888888888888888,
              "#fdca26"
             ],
             [
              1,
              "#f0f921"
             ]
            ],
            "type": "histogram2dcontour"
           }
          ],
          "mesh3d": [
           {
            "colorbar": {
             "outlinewidth": 0,
             "ticks": ""
            },
            "type": "mesh3d"
           }
          ],
          "parcoords": [
           {
            "line": {
             "colorbar": {
              "outlinewidth": 0,
              "ticks": ""
             }
            },
            "type": "parcoords"
           }
          ],
          "pie": [
           {
            "automargin": true,
            "type": "pie"
           }
          ],
          "scatter": [
           {
            "fillpattern": {
             "fillmode": "overlay",
             "size": 10,
             "solidity": 0.2
            },
            "type": "scatter"
           }
          ],
          "scatter3d": [
           {
            "line": {
             "colorbar": {
              "outlinewidth": 0,
              "ticks": ""
             }
            },
            "marker": {
             "colorbar": {
              "outlinewidth": 0,
              "ticks": ""
             }
            },
            "type": "scatter3d"
           }
          ],
          "scattercarpet": [
           {
            "marker": {
             "colorbar": {
              "outlinewidth": 0,
              "ticks": ""
             }
            },
            "type": "scattercarpet"
           }
          ],
          "scattergeo": [
           {
            "marker": {
             "colorbar": {
              "outlinewidth": 0,
              "ticks": ""
             }
            },
            "type": "scattergeo"
           }
          ],
          "scattergl": [
           {
            "marker": {
             "colorbar": {
              "outlinewidth": 0,
              "ticks": ""
             }
            },
            "type": "scattergl"
           }
          ],
          "scattermapbox": [
           {
            "marker": {
             "colorbar": {
              "outlinewidth": 0,
              "ticks": ""
             }
            },
            "type": "scattermapbox"
           }
          ],
          "scatterpolar": [
           {
            "marker": {
             "colorbar": {
              "outlinewidth": 0,
              "ticks": ""
             }
            },
            "type": "scatterpolar"
           }
          ],
          "scatterpolargl": [
           {
            "marker": {
             "colorbar": {
              "outlinewidth": 0,
              "ticks": ""
             }
            },
            "type": "scatterpolargl"
           }
          ],
          "scatterternary": [
           {
            "marker": {
             "colorbar": {
              "outlinewidth": 0,
              "ticks": ""
             }
            },
            "type": "scatterternary"
           }
          ],
          "surface": [
           {
            "colorbar": {
             "outlinewidth": 0,
             "ticks": ""
            },
            "colorscale": [
             [
              0,
              "#0d0887"
             ],
             [
              0.1111111111111111,
              "#46039f"
             ],
             [
              0.2222222222222222,
              "#7201a8"
             ],
             [
              0.3333333333333333,
              "#9c179e"
             ],
             [
              0.4444444444444444,
              "#bd3786"
             ],
             [
              0.5555555555555556,
              "#d8576b"
             ],
             [
              0.6666666666666666,
              "#ed7953"
             ],
             [
              0.7777777777777778,
              "#fb9f3a"
             ],
             [
              0.8888888888888888,
              "#fdca26"
             ],
             [
              1,
              "#f0f921"
             ]
            ],
            "type": "surface"
           }
          ],
          "table": [
           {
            "cells": {
             "fill": {
              "color": "#EBF0F8"
             },
             "line": {
              "color": "white"
             }
            },
            "header": {
             "fill": {
              "color": "#C8D4E3"
             },
             "line": {
              "color": "white"
             }
            },
            "type": "table"
           }
          ]
         },
         "layout": {
          "annotationdefaults": {
           "arrowcolor": "#2a3f5f",
           "arrowhead": 0,
           "arrowwidth": 1
          },
          "autotypenumbers": "strict",
          "coloraxis": {
           "colorbar": {
            "outlinewidth": 0,
            "ticks": ""
           }
          },
          "colorscale": {
           "diverging": [
            [
             0,
             "#8e0152"
            ],
            [
             0.1,
             "#c51b7d"
            ],
            [
             0.2,
             "#de77ae"
            ],
            [
             0.3,
             "#f1b6da"
            ],
            [
             0.4,
             "#fde0ef"
            ],
            [
             0.5,
             "#f7f7f7"
            ],
            [
             0.6,
             "#e6f5d0"
            ],
            [
             0.7,
             "#b8e186"
            ],
            [
             0.8,
             "#7fbc41"
            ],
            [
             0.9,
             "#4d9221"
            ],
            [
             1,
             "#276419"
            ]
           ],
           "sequential": [
            [
             0,
             "#0d0887"
            ],
            [
             0.1111111111111111,
             "#46039f"
            ],
            [
             0.2222222222222222,
             "#7201a8"
            ],
            [
             0.3333333333333333,
             "#9c179e"
            ],
            [
             0.4444444444444444,
             "#bd3786"
            ],
            [
             0.5555555555555556,
             "#d8576b"
            ],
            [
             0.6666666666666666,
             "#ed7953"
            ],
            [
             0.7777777777777778,
             "#fb9f3a"
            ],
            [
             0.8888888888888888,
             "#fdca26"
            ],
            [
             1,
             "#f0f921"
            ]
           ],
           "sequentialminus": [
            [
             0,
             "#0d0887"
            ],
            [
             0.1111111111111111,
             "#46039f"
            ],
            [
             0.2222222222222222,
             "#7201a8"
            ],
            [
             0.3333333333333333,
             "#9c179e"
            ],
            [
             0.4444444444444444,
             "#bd3786"
            ],
            [
             0.5555555555555556,
             "#d8576b"
            ],
            [
             0.6666666666666666,
             "#ed7953"
            ],
            [
             0.7777777777777778,
             "#fb9f3a"
            ],
            [
             0.8888888888888888,
             "#fdca26"
            ],
            [
             1,
             "#f0f921"
            ]
           ]
          },
          "colorway": [
           "#636efa",
           "#EF553B",
           "#00cc96",
           "#ab63fa",
           "#FFA15A",
           "#19d3f3",
           "#FF6692",
           "#B6E880",
           "#FF97FF",
           "#FECB52"
          ],
          "font": {
           "color": "#2a3f5f"
          },
          "geo": {
           "bgcolor": "white",
           "lakecolor": "white",
           "landcolor": "#E5ECF6",
           "showlakes": true,
           "showland": true,
           "subunitcolor": "white"
          },
          "hoverlabel": {
           "align": "left"
          },
          "hovermode": "closest",
          "mapbox": {
           "style": "light"
          },
          "paper_bgcolor": "white",
          "plot_bgcolor": "#E5ECF6",
          "polar": {
           "angularaxis": {
            "gridcolor": "white",
            "linecolor": "white",
            "ticks": ""
           },
           "bgcolor": "#E5ECF6",
           "radialaxis": {
            "gridcolor": "white",
            "linecolor": "white",
            "ticks": ""
           }
          },
          "scene": {
           "xaxis": {
            "backgroundcolor": "#E5ECF6",
            "gridcolor": "white",
            "gridwidth": 2,
            "linecolor": "white",
            "showbackground": true,
            "ticks": "",
            "zerolinecolor": "white"
           },
           "yaxis": {
            "backgroundcolor": "#E5ECF6",
            "gridcolor": "white",
            "gridwidth": 2,
            "linecolor": "white",
            "showbackground": true,
            "ticks": "",
            "zerolinecolor": "white"
           },
           "zaxis": {
            "backgroundcolor": "#E5ECF6",
            "gridcolor": "white",
            "gridwidth": 2,
            "linecolor": "white",
            "showbackground": true,
            "ticks": "",
            "zerolinecolor": "white"
           }
          },
          "shapedefaults": {
           "line": {
            "color": "#2a3f5f"
           }
          },
          "ternary": {
           "aaxis": {
            "gridcolor": "white",
            "linecolor": "white",
            "ticks": ""
           },
           "baxis": {
            "gridcolor": "white",
            "linecolor": "white",
            "ticks": ""
           },
           "bgcolor": "#E5ECF6",
           "caxis": {
            "gridcolor": "white",
            "linecolor": "white",
            "ticks": ""
           }
          },
          "title": {
           "x": 0.05
          },
          "xaxis": {
           "automargin": true,
           "gridcolor": "white",
           "linecolor": "white",
           "ticks": "",
           "title": {
            "standoff": 15
           },
           "zerolinecolor": "white",
           "zerolinewidth": 2
          },
          "yaxis": {
           "automargin": true,
           "gridcolor": "white",
           "linecolor": "white",
           "ticks": "",
           "title": {
            "standoff": 15
           },
           "zerolinecolor": "white",
           "zerolinewidth": 2
          }
         }
        },
        "xaxis": {
         "anchor": "y",
         "domain": [
          0,
          1
         ],
         "title": {
          "text": "adi_decile"
         }
        },
        "yaxis": {
         "anchor": "x",
         "domain": [
          0,
          1
         ],
         "title": {
          "text": "total_loss"
         }
        }
       }
      }
     },
     "metadata": {},
     "output_type": "display_data"
    }
   ],
   "source": [
    "loss_by_adi = df.groupby(['adi_decile']).agg(total_loss=(\"_loss\",\"sum\")).reset_index()\n",
    "px.bar(loss_by_adi, x='adi_decile', y=\"total_loss\")"
   ]
  },
  {
   "cell_type": "code",
   "execution_count": 3,
   "metadata": {},
   "outputs": [
    {
     "data": {
      "text/html": [
       "<div>\n",
       "<style scoped>\n",
       "    .dataframe tbody tr th:only-of-type {\n",
       "        vertical-align: middle;\n",
       "    }\n",
       "\n",
       "    .dataframe tbody tr th {\n",
       "        vertical-align: top;\n",
       "    }\n",
       "\n",
       "    .dataframe thead th {\n",
       "        text-align: right;\n",
       "    }\n",
       "</style>\n",
       "<table border=\"1\" class=\"dataframe\">\n",
       "  <thead>\n",
       "    <tr style=\"text-align: right;\">\n",
       "      <th></th>\n",
       "      <th>state</th>\n",
       "      <th>zip3</th>\n",
       "      <th>lat</th>\n",
       "      <th>lon</th>\n",
       "      <th>population</th>\n",
       "      <th>adi_median</th>\n",
       "      <th>case</th>\n",
       "      <th>drive_time</th>\n",
       "      <th>state_status</th>\n",
       "      <th>adi_decile</th>\n",
       "      <th>_drive_time</th>\n",
       "    </tr>\n",
       "  </thead>\n",
       "  <tbody>\n",
       "    <tr>\n",
       "      <th>0</th>\n",
       "      <td>AL</td>\n",
       "      <td>301**</td>\n",
       "      <td>34.315791</td>\n",
       "      <td>-85.295125</td>\n",
       "      <td>39975</td>\n",
       "      <td>79.0</td>\n",
       "      <td>main_515</td>\n",
       "      <td>510.0</td>\n",
       "      <td>at_risk</td>\n",
       "      <td>7</td>\n",
       "      <td>8.0</td>\n",
       "    </tr>\n",
       "    <tr>\n",
       "      <th>1</th>\n",
       "      <td>AL</td>\n",
       "      <td>319**</td>\n",
       "      <td>32.372789</td>\n",
       "      <td>-84.843361</td>\n",
       "      <td>16044</td>\n",
       "      <td>84.0</td>\n",
       "      <td>main_515</td>\n",
       "      <td>637.4</td>\n",
       "      <td>at_risk</td>\n",
       "      <td>8</td>\n",
       "      <td>10.0</td>\n",
       "    </tr>\n",
       "    <tr>\n",
       "      <th>2</th>\n",
       "      <td>AL</td>\n",
       "      <td>350**</td>\n",
       "      <td>33.568065</td>\n",
       "      <td>-86.712692</td>\n",
       "      <td>442190</td>\n",
       "      <td>73.0</td>\n",
       "      <td>main_515</td>\n",
       "      <td>490.4</td>\n",
       "      <td>at_risk</td>\n",
       "      <td>7</td>\n",
       "      <td>8.0</td>\n",
       "    </tr>\n",
       "    <tr>\n",
       "      <th>3</th>\n",
       "      <td>AL</td>\n",
       "      <td>351**</td>\n",
       "      <td>33.506417</td>\n",
       "      <td>-86.624839</td>\n",
       "      <td>324591</td>\n",
       "      <td>61.0</td>\n",
       "      <td>main_515</td>\n",
       "      <td>501.2</td>\n",
       "      <td>at_risk</td>\n",
       "      <td>6</td>\n",
       "      <td>8.0</td>\n",
       "    </tr>\n",
       "    <tr>\n",
       "      <th>4</th>\n",
       "      <td>AL</td>\n",
       "      <td>352**</td>\n",
       "      <td>33.506077</td>\n",
       "      <td>-86.798758</td>\n",
       "      <td>491463</td>\n",
       "      <td>72.0</td>\n",
       "      <td>main_515</td>\n",
       "      <td>487.0</td>\n",
       "      <td>at_risk</td>\n",
       "      <td>7</td>\n",
       "      <td>8.0</td>\n",
       "    </tr>\n",
       "    <tr>\n",
       "      <th>...</th>\n",
       "      <td>...</td>\n",
       "      <td>...</td>\n",
       "      <td>...</td>\n",
       "      <td>...</td>\n",
       "      <td>...</td>\n",
       "      <td>...</td>\n",
       "      <td>...</td>\n",
       "      <td>...</td>\n",
       "      <td>...</td>\n",
       "      <td>...</td>\n",
       "      <td>...</td>\n",
       "    </tr>\n",
       "    <tr>\n",
       "      <th>877</th>\n",
       "      <td>WY</td>\n",
       "      <td>824**</td>\n",
       "      <td>44.438020</td>\n",
       "      <td>-108.408179</td>\n",
       "      <td>52930</td>\n",
       "      <td>48.0</td>\n",
       "      <td>NaN</td>\n",
       "      <td>NaN</td>\n",
       "      <td>at_risk</td>\n",
       "      <td>4</td>\n",
       "      <td>NaN</td>\n",
       "    </tr>\n",
       "    <tr>\n",
       "      <th>878</th>\n",
       "      <td>WY</td>\n",
       "      <td>825**</td>\n",
       "      <td>43.103802</td>\n",
       "      <td>-108.847958</td>\n",
       "      <td>38910</td>\n",
       "      <td>56.0</td>\n",
       "      <td>NaN</td>\n",
       "      <td>NaN</td>\n",
       "      <td>at_risk</td>\n",
       "      <td>5</td>\n",
       "      <td>NaN</td>\n",
       "    </tr>\n",
       "    <tr>\n",
       "      <th>879</th>\n",
       "      <td>WY</td>\n",
       "      <td>826**</td>\n",
       "      <td>43.106535</td>\n",
       "      <td>-106.629017</td>\n",
       "      <td>91238</td>\n",
       "      <td>52.5</td>\n",
       "      <td>NaN</td>\n",
       "      <td>NaN</td>\n",
       "      <td>at_risk</td>\n",
       "      <td>5</td>\n",
       "      <td>NaN</td>\n",
       "    </tr>\n",
       "    <tr>\n",
       "      <th>880</th>\n",
       "      <td>WY</td>\n",
       "      <td>828**</td>\n",
       "      <td>44.714826</td>\n",
       "      <td>-106.872537</td>\n",
       "      <td>36958</td>\n",
       "      <td>31.0</td>\n",
       "      <td>NaN</td>\n",
       "      <td>NaN</td>\n",
       "      <td>at_risk</td>\n",
       "      <td>3</td>\n",
       "      <td>NaN</td>\n",
       "    </tr>\n",
       "    <tr>\n",
       "      <th>881</th>\n",
       "      <td>WY</td>\n",
       "      <td>830**</td>\n",
       "      <td>43.639891</td>\n",
       "      <td>-110.731186</td>\n",
       "      <td>20421</td>\n",
       "      <td>3.0</td>\n",
       "      <td>NaN</td>\n",
       "      <td>NaN</td>\n",
       "      <td>at_risk</td>\n",
       "      <td>0</td>\n",
       "      <td>NaN</td>\n",
       "    </tr>\n",
       "  </tbody>\n",
       "</table>\n",
       "<p>882 rows × 11 columns</p>\n",
       "</div>"
      ],
      "text/plain": [
       "    state   zip3        lat         lon  population  adi_median      case  \\\n",
       "0      AL  301**  34.315791  -85.295125       39975        79.0  main_515   \n",
       "1      AL  319**  32.372789  -84.843361       16044        84.0  main_515   \n",
       "2      AL  350**  33.568065  -86.712692      442190        73.0  main_515   \n",
       "3      AL  351**  33.506417  -86.624839      324591        61.0  main_515   \n",
       "4      AL  352**  33.506077  -86.798758      491463        72.0  main_515   \n",
       "..    ...    ...        ...         ...         ...         ...       ...   \n",
       "877    WY  824**  44.438020 -108.408179       52930        48.0       NaN   \n",
       "878    WY  825**  43.103802 -108.847958       38910        56.0       NaN   \n",
       "879    WY  826**  43.106535 -106.629017       91238        52.5       NaN   \n",
       "880    WY  828**  44.714826 -106.872537       36958        31.0       NaN   \n",
       "881    WY  830**  43.639891 -110.731186       20421         3.0       NaN   \n",
       "\n",
       "     drive_time state_status  adi_decile  _drive_time  \n",
       "0         510.0      at_risk           7          8.0  \n",
       "1         637.4      at_risk           8         10.0  \n",
       "2         490.4      at_risk           7          8.0  \n",
       "3         501.2      at_risk           6          8.0  \n",
       "4         487.0      at_risk           7          8.0  \n",
       "..          ...          ...         ...          ...  \n",
       "877         NaN      at_risk           4          NaN  \n",
       "878         NaN      at_risk           5          NaN  \n",
       "879         NaN      at_risk           5          NaN  \n",
       "880         NaN      at_risk           3          NaN  \n",
       "881         NaN      at_risk           0          NaN  \n",
       "\n",
       "[882 rows x 11 columns]"
      ]
     },
     "execution_count": 3,
     "metadata": {},
     "output_type": "execute_result"
    }
   ],
   "source": [
    "MAX_WORKERS = 30\n",
    "\n",
    "def build(case=\"base\"):\n",
    "    \"\"\"  \n",
    "        Takes about 5 min at k=5, clinics = 1k\n",
    "    \"\"\"\n",
    "    def _invoke_get_drive_time(origin: dict) -> dict:\n",
    "        API_BASE = \"https://us-central1-ohdo-post-roe-359822.cloudfunctions.net\"\n",
    "        endpoint = f\"{API_BASE}/post-roe-sls-dev-get-drive-time\"\n",
    "        params = {\n",
    "            \"case\": case,\n",
    "            \"k\": 5,\n",
    "            \"origin\": {\n",
    "                \"lat_lon\": list(origin['lat_lon']),\n",
    "                \"zip3\": origin['zip3'],\n",
    "            }\n",
    "        }\n",
    "        resp = requests.post(endpoint, json=params)\n",
    "        if resp.status_code != 200:\n",
    "            print(resp.status_code, resp.text)\n",
    "        else:\n",
    "            return resp.json()\n",
    "            \n",
    "    origins = bq.census_zip3_query()\n",
    "    zip3_origins = origins[['zip3','lat_lon']].to_dict(orient=\"records\")\n",
    "    with ThreadPoolExecutor(max_workers=MAX_WORKERS) as exec:\n",
    "        futures = exec.map(_invoke_get_drive_time, zip3_origins[0:5])\n",
    "    drive_time = pd.DataFrame(list(futures))\n",
    "    \n",
    "    # enrich\n",
    "    df = origins.merge(drive_time, how=\"left\").drop_duplicates(subset=['zip3']).drop(columns=[\"lat_lon\"])\n",
    "    df = df.merge(bq.states_query(case=case)[['state','state_status']])\n",
    "    df['adi_decile'] = df['adi_median'].apply(lambda x: int(x/10))\n",
    "    df['_drive_hrs'] = df['drive_time'].dropna().apply(lambda x: int(x/60))\n",
    "    df.to_feather(f\"drive_time_{case}.feather\")\n",
    "    # bq.to_feather(df) #cache\n",
    "    return df\n",
    "\n",
    "main = build(\"main_515\")\n",
    "main\n"
   ]
  },
  {
   "cell_type": "code",
   "execution_count": 16,
   "metadata": {},
   "outputs": [
    {
     "data": {
      "text/plain": [
       "{'status_code': 500, 'text': 'Error: could not handle the request\\n'}"
      ]
     },
     "execution_count": 16,
     "metadata": {},
     "output_type": "execute_result"
    }
   ],
   "source": [
    "import google.auth.transport.requests\n",
    "import google.oauth2.id_token\n",
    "\n",
    "import os\n",
    "os.environ['GOOGLE_APPLICATION_CREDENTIALS'] = '/Users/parker/.gcloud/ohdo-post-roe-359822-keyfile.json'\n",
    "\n",
    "API_BASE = \"https://us-central1-ohdo-post-roe-359822.cloudfunctions.net\"\n",
    "\n",
    "def _invoke_authenticated(endpoint, json_params):\n",
    "    url = f\"{API_BASE}/{endpoint}\"\n",
    "    auth_req = google.auth.transport.requests.Request()\n",
    "    id_token = google.oauth2.id_token.fetch_id_token(auth_req, url)\n",
    "    headers = {\"Authorization\": f\"Bearer {id_token}\"}\n",
    "    resp = requests.post(url, json=json_params, headers=headers)\n",
    "    return resp\n",
    "\n",
    "def trigger_pipeline(case):\n",
    "    json_params = {\"case\": case}\n",
    "    resp = _invoke_authenticated(\"post-roe-sls-dev-process-async\", json_params)\n",
    "    if resp.status_code != 200:\n",
    "        return dict(status_code = resp.status_code, text= resp.text)\n",
    "    else:\n",
    "        return resp.json()\n",
    "    \n",
    "\n",
    "resp = trigger_pipeline(\"main_515\")\n",
    "resp"
   ]
  },
  {
   "cell_type": "code",
   "execution_count": 15,
   "metadata": {},
   "outputs": [
    {
     "data": {
      "text/plain": [
       "'Error: could not handle the request\\n'"
      ]
     },
     "execution_count": 15,
     "metadata": {},
     "output_type": "execute_result"
    }
   ],
   "source": [
    "resp.text"
   ]
  },
  {
   "cell_type": "code",
   "execution_count": 11,
   "metadata": {},
   "outputs": [
    {
     "data": {
      "text/html": [
       "<div>\n",
       "<style scoped>\n",
       "    .dataframe tbody tr th:only-of-type {\n",
       "        vertical-align: middle;\n",
       "    }\n",
       "\n",
       "    .dataframe tbody tr th {\n",
       "        vertical-align: top;\n",
       "    }\n",
       "\n",
       "    .dataframe thead th {\n",
       "        text-align: right;\n",
       "    }\n",
       "</style>\n",
       "<table border=\"1\" class=\"dataframe\">\n",
       "  <thead>\n",
       "    <tr style=\"text-align: right;\">\n",
       "      <th></th>\n",
       "      <th>state</th>\n",
       "      <th>zip3</th>\n",
       "      <th>lat</th>\n",
       "      <th>lon</th>\n",
       "      <th>population</th>\n",
       "      <th>adi_median</th>\n",
       "      <th>lat_lon</th>\n",
       "    </tr>\n",
       "  </thead>\n",
       "  <tbody>\n",
       "    <tr>\n",
       "      <th>0</th>\n",
       "      <td>AL</td>\n",
       "      <td>301**</td>\n",
       "      <td>34.315791</td>\n",
       "      <td>-85.295125</td>\n",
       "      <td>39975</td>\n",
       "      <td>79.0</td>\n",
       "      <td>(34.3157908, -85.2951255)</td>\n",
       "    </tr>\n",
       "    <tr>\n",
       "      <th>1</th>\n",
       "      <td>AL</td>\n",
       "      <td>319**</td>\n",
       "      <td>32.372789</td>\n",
       "      <td>-84.843361</td>\n",
       "      <td>16044</td>\n",
       "      <td>84.0</td>\n",
       "      <td>(32.3727889, -84.8433612)</td>\n",
       "    </tr>\n",
       "    <tr>\n",
       "      <th>2</th>\n",
       "      <td>AL</td>\n",
       "      <td>350**</td>\n",
       "      <td>33.568065</td>\n",
       "      <td>-86.712692</td>\n",
       "      <td>442190</td>\n",
       "      <td>73.0</td>\n",
       "      <td>(33.56806525614035, -86.71269193157895)</td>\n",
       "    </tr>\n",
       "    <tr>\n",
       "      <th>3</th>\n",
       "      <td>AL</td>\n",
       "      <td>351**</td>\n",
       "      <td>33.506417</td>\n",
       "      <td>-86.624839</td>\n",
       "      <td>324591</td>\n",
       "      <td>61.0</td>\n",
       "      <td>(33.5064165925, -86.62483858)</td>\n",
       "    </tr>\n",
       "    <tr>\n",
       "      <th>4</th>\n",
       "      <td>AL</td>\n",
       "      <td>352**</td>\n",
       "      <td>33.506077</td>\n",
       "      <td>-86.798758</td>\n",
       "      <td>491463</td>\n",
       "      <td>72.0</td>\n",
       "      <td>(33.50607672857143, -86.79875809285714)</td>\n",
       "    </tr>\n",
       "    <tr>\n",
       "      <th>...</th>\n",
       "      <td>...</td>\n",
       "      <td>...</td>\n",
       "      <td>...</td>\n",
       "      <td>...</td>\n",
       "      <td>...</td>\n",
       "      <td>...</td>\n",
       "      <td>...</td>\n",
       "    </tr>\n",
       "    <tr>\n",
       "      <th>960</th>\n",
       "      <td>WY</td>\n",
       "      <td>828**</td>\n",
       "      <td>44.714826</td>\n",
       "      <td>-106.872537</td>\n",
       "      <td>36958</td>\n",
       "      <td>31.0</td>\n",
       "      <td>(44.71482560769231, -106.87253687692308)</td>\n",
       "    </tr>\n",
       "    <tr>\n",
       "      <th>961</th>\n",
       "      <td>WY</td>\n",
       "      <td>829**</td>\n",
       "      <td>41.794508</td>\n",
       "      <td>-109.806840</td>\n",
       "      <td>70258</td>\n",
       "      <td>45.5</td>\n",
       "      <td>(41.79450811666666, -109.80683991111111)</td>\n",
       "    </tr>\n",
       "    <tr>\n",
       "      <th>962</th>\n",
       "      <td>WY</td>\n",
       "      <td>830**</td>\n",
       "      <td>43.639891</td>\n",
       "      <td>-110.731186</td>\n",
       "      <td>20421</td>\n",
       "      <td>3.0</td>\n",
       "      <td>(43.63989136, -110.73118584)</td>\n",
       "    </tr>\n",
       "    <tr>\n",
       "      <th>963</th>\n",
       "      <td>WY</td>\n",
       "      <td>831**</td>\n",
       "      <td>42.581182</td>\n",
       "      <td>-110.734945</td>\n",
       "      <td>22360</td>\n",
       "      <td>44.0</td>\n",
       "      <td>(42.58118175294118, -110.73494530588235)</td>\n",
       "    </tr>\n",
       "    <tr>\n",
       "      <th>964</th>\n",
       "      <td>WY</td>\n",
       "      <td>834**</td>\n",
       "      <td>43.861439</td>\n",
       "      <td>-110.935725</td>\n",
       "      <td>544</td>\n",
       "      <td>3.0</td>\n",
       "      <td>(43.8614388, -110.9357249)</td>\n",
       "    </tr>\n",
       "  </tbody>\n",
       "</table>\n",
       "<p>965 rows × 7 columns</p>\n",
       "</div>"
      ],
      "text/plain": [
       "    state   zip3        lat         lon  population  adi_median  \\\n",
       "0      AL  301**  34.315791  -85.295125       39975        79.0   \n",
       "1      AL  319**  32.372789  -84.843361       16044        84.0   \n",
       "2      AL  350**  33.568065  -86.712692      442190        73.0   \n",
       "3      AL  351**  33.506417  -86.624839      324591        61.0   \n",
       "4      AL  352**  33.506077  -86.798758      491463        72.0   \n",
       "..    ...    ...        ...         ...         ...         ...   \n",
       "960    WY  828**  44.714826 -106.872537       36958        31.0   \n",
       "961    WY  829**  41.794508 -109.806840       70258        45.5   \n",
       "962    WY  830**  43.639891 -110.731186       20421         3.0   \n",
       "963    WY  831**  42.581182 -110.734945       22360        44.0   \n",
       "964    WY  834**  43.861439 -110.935725         544         3.0   \n",
       "\n",
       "                                      lat_lon  \n",
       "0                   (34.3157908, -85.2951255)  \n",
       "1                   (32.3727889, -84.8433612)  \n",
       "2     (33.56806525614035, -86.71269193157895)  \n",
       "3               (33.5064165925, -86.62483858)  \n",
       "4     (33.50607672857143, -86.79875809285714)  \n",
       "..                                        ...  \n",
       "960  (44.71482560769231, -106.87253687692308)  \n",
       "961  (41.79450811666666, -109.80683991111111)  \n",
       "962              (43.63989136, -110.73118584)  \n",
       "963  (42.58118175294118, -110.73494530588235)  \n",
       "964                (43.8614388, -110.9357249)  \n",
       "\n",
       "[965 rows x 7 columns]"
      ]
     },
     "execution_count": 11,
     "metadata": {},
     "output_type": "execute_result"
    }
   ],
   "source": [
    "bq.census_zip3_query()"
   ]
  },
  {
   "cell_type": "code",
   "execution_count": null,
   "metadata": {},
   "outputs": [],
   "source": [
    "case=\"alt\"\n",
    "df_alt = pd.read_feather(f\"drive_time_{case}.feather\")\n",
    "\n",
    "case=\"base\"\n",
    "df_base = pd.read_feather(f\"drive_time_{case}.feather\")\n"
   ]
  }
 ],
 "metadata": {
  "kernelspec": {
   "display_name": "Python 3.9.7 ('.venv': venv)",
   "language": "python",
   "name": "python3"
  },
  "language_info": {
   "codemirror_mode": {
    "name": "ipython",
    "version": 3
   },
   "file_extension": ".py",
   "mimetype": "text/x-python",
   "name": "python",
   "nbconvert_exporter": "python",
   "pygments_lexer": "ipython3",
   "version": "3.9.7"
  },
  "orig_nbformat": 4,
  "vscode": {
   "interpreter": {
    "hash": "67b23767d0a5ef5483c8606a3f1b0d5200f11ae7587020323ba55a2d17d81038"
   }
  }
 },
 "nbformat": 4,
 "nbformat_minor": 2
}
