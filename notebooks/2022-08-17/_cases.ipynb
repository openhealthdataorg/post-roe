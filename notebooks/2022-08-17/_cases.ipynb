{
 "cells": [
  {
   "cell_type": "code",
   "execution_count": 3,
   "metadata": {},
   "outputs": [],
   "source": [
    "import pandas as pd\n",
    "import plotly.express as px\n",
    "from post_roe.query import BucketQuery as bq, BUCKET_BASE\n",
    "\n",
    "case = 'base'\n",
    "drive_time = pd.read_feather(\"zip3_drive_time_mean.feather\")\n",
    "origins = bq.census_zip3_query()\n",
    "df = origins.merge(drive_time, how=\"left\").drop_duplicates(subset=['zip3']).drop(columns=[\"lat_lon\"])\n",
    "df = df.merge(bq.states_query()[['state','state_status']])\n",
    "df['adi_decile'] = df['adi_median'].apply(lambda x: int(x/10))\n",
    "df['_drive_time'] = df['drive_time'].dropna().apply(lambda x: int(x/60))\n",
    "df['case'] = case\n",
    "df.to_feather(f\"drive_time_{case}.feather\")"
   ]
  },
  {
   "cell_type": "code",
   "execution_count": null,
   "metadata": {},
   "outputs": [],
   "source": [
    "import pandas as pd\n",
    "from concurrent.futures import ThreadPoolExecutor\n",
    "import requests\n",
    "\n",
    "from post_roe.query import BucketQuery as bq, BUCKET_BASE\n",
    "\n",
    "def build(case=\"base\"):\n",
    "    \"\"\"  \n",
    "        Takes about 5 min at k=5, clinics = 1k\n",
    "    \"\"\"\n",
    "    def _invoke_get_drive_time(origin: dict) -> dict:\n",
    "        API_BASE = \"https://us-central1-ohdo-post-roe-359822.cloudfunctions.net\"\n",
    "        endpoint = f\"{API_BASE}/post-roe-sls-dev-get-drive-time\"\n",
    "        params = {\n",
    "            \"case\": case,\n",
    "            \"k\": 5,\n",
    "            \"origin\": {\n",
    "                \"lat_lon\": list(origin['lat_lon']),\n",
    "                \"zip3\": origin['zip3'],\n",
    "            }\n",
    "        }\n",
    "        resp = requests.post(endpoint, json=params)\n",
    "        if resp.status_code != 200:\n",
    "            print(resp.status_code, resp.text)\n",
    "        else:\n",
    "            return resp.json()\n",
    "            \n",
    "    origins = bq.census_zip3_query()\n",
    "    zip3_origins = origins[['zip3','lat_lon']].to_dict(orient=\"records\")\n",
    "    with ThreadPoolExecutor(max_workers=20) as exec:\n",
    "        futures = exec.map(_invoke_get_drive_time, zip3_origins)\n",
    "    drive_time = pd.DataFrame(list(futures))\n",
    "    \n",
    "    # enrich\n",
    "    df = origins.merge(drive_time, how=\"left\").drop_duplicates(subset=['zip3']).drop(columns=[\"lat_lon\"])\n",
    "    df = df.merge(bq.states_query(case=case)[['state','state_status']])\n",
    "    df['adi_decile'] = df['adi_median'].apply(lambda x: int(x/10))\n",
    "    df['_drive_time'] = df['drive_time'].dropna().apply(lambda x: int(x/60))\n",
    "    df.to_feather(f\"drive_time_{case}.feather\")\n",
    "    # bq.to_feather(df) #cache\n",
    "    return df\n"
   ]
  }
 ],
 "metadata": {
  "kernelspec": {
   "display_name": "Python 3.9.7 ('.venv': venv)",
   "language": "python",
   "name": "python3"
  },
  "language_info": {
   "codemirror_mode": {
    "name": "ipython",
    "version": 3
   },
   "file_extension": ".py",
   "mimetype": "text/x-python",
   "name": "python",
   "nbconvert_exporter": "python",
   "pygments_lexer": "ipython3",
   "version": "3.9.7"
  },
  "orig_nbformat": 4,
  "vscode": {
   "interpreter": {
    "hash": "67b23767d0a5ef5483c8606a3f1b0d5200f11ae7587020323ba55a2d17d81038"
   }
  }
 },
 "nbformat": 4,
 "nbformat_minor": 2
}
